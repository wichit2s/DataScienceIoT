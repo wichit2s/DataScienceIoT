{
 "cells": [
  {
   "cell_type": "markdown",
   "metadata": {},
   "source": [
    "# เทคนิคการวิเคราะห์ข้อมูลแบบต่างๆ\n"
   ]
  },
  {
   "cell_type": "markdown",
   "metadata": {},
   "source": [
    "## ชุดคำสั่ง pandas\n",
    "\n",
    "1. คำสั่งกำหนดการแสดงกราฟทันที\n",
    "\n",
    "```sh\n",
    "%matplotlib notebook\n",
    "```\n",
    "> นอกจาก notebook แล้วยังเลือก qt4, qt5 ได้อีกด้วย"
   ]
  },
  {
   "cell_type": "code",
   "execution_count": null,
   "metadata": {},
   "outputs": [],
   "source": []
  },
  {
   "cell_type": "markdown",
   "metadata": {},
   "source": [
    "2. คำสั่งนำเข้าชุดคำสั่งเพื่อเรียกใช้งานและคำสั่งแสดง เวอร์ชัน\n",
    "\n",
    "```python\n",
    "import numpy\n",
    "import pandas\n",
    "pandas.__version__\n",
    "```\n"
   ]
  },
  {
   "cell_type": "code",
   "execution_count": null,
   "metadata": {},
   "outputs": [],
   "source": []
  },
  {
   "cell_type": "markdown",
   "metadata": {},
   "source": [
    "3. คำสั่งอ่านข้อมูลจากไฟล์\n",
    "\n",
    "```python\n",
    "# คำสั่งอ่านข้อมูล\n",
    "df = pandas.read_csv('thailand-traffic-data-2017.csv')\n",
    "\n",
    "# คำสั่งอ่านข้อมูลโดยไม่ใช้ชื่อ column จากไฟล์ และให้อ่านข้ามแถวที่ 0 \n",
    "data = pandas.read_csv('thailand-traffic-data-2017.csv', header=None, skiprows=[0])\n",
    "```"
   ]
  },
  {
   "cell_type": "code",
   "execution_count": null,
   "metadata": {},
   "outputs": [],
   "source": []
  },
  {
   "cell_type": "markdown",
   "metadata": {},
   "source": [
    "4. คำสั่งเลือกข้อมูล (แถว)\n",
    "\n",
    "```python\n",
    "# คำสั่งเลือกข้อมูลแถวที่ 0\n",
    "df[0]\n",
    "\n",
    "# คำสั่งเลือกข้อมูล 5 แถวแรก (ของทุก column)  แถวหมายเลข 0 ถึงหมายเลข 4\n",
    "df[0:5] \n",
    "\n",
    "# คำสั่งเลือกข้อมูลแถวที่ 5 ถึงแถวที่ 9\n",
    "df[5:10]\n",
    "\n",
    "# คำสั่งเลือกข้อมูลแถวที่ 0 ถึงแถวที่ 30 โดยหมายเลขแถวเพิ่มขึ้นทีละ 2\n",
    "df[0:30:2]\n",
    "```"
   ]
  },
  {
   "cell_type": "code",
   "execution_count": null,
   "metadata": {},
   "outputs": [],
   "source": []
  },
  {
   "cell_type": "markdown",
   "metadata": {},
   "source": [
    "5. คำสั่งเลือกข้อมูลขั้นสูง\n",
    "\n",
    "```python\n",
    "# คำสั่งเลือกข้อมูล แถวหมายเลข 10 สะดมถ์(column)หมายเลข 2 \n",
    "data.loc[10, 2]\n",
    "\n",
    "# คำสั่งเลือกชุดข้อมูลเป็นช่วง\n",
    "data.loc[3:10, 2:7]\n",
    "\n",
    "# คำสั่งเลือกชุดข้อมูลเป็น ที่เลือกมาทุกแถวของ สะดมถ์ที่ 2\n",
    "data.loc[:, 2]\n",
    "data.loc[0:, 2]\n",
    "\n",
    "# คำสั่งเลือกมาทุกเฉพาะ แถว 2 ของทุกสะดมถ์\n",
    "data.loc[2, :]\n",
    "\n",
    "# คำสั่งเลือกมาทุกเฉพาะ ทุกแถว ของสะดมถ์ที่ 3, 7, 11, 5\n",
    "data.loc[:, [3,7,11,5]]\n",
    "\n",
    "# คำสั่งเลือกชุดข้อมูลเป็น ที่เอามาเฉพาะหมายเลขแถว และหมายเลขสะดมถ์เป็นคู่\n",
    "data.loc[::2, ::2]\n",
    "\n",
    "# คำสั่งเลือกชุดข้อมูล ทุกแถว ของสะดมถ์ชื่อ 'รวม'\n",
    "df.loc[:, 'รวม']\n",
    "\n",
    "# คำสั่งเลือกข้อมูลทุกแถว เฉพาะบางสะดมถ์\n",
    "df.loc[:, ['ชื่อตอน', 'รถโดยสารขนาดเล็ก', 'รถจักรยานยนต์']]\n",
    "\n",
    "# คำสั่งเลือกข้อมูลทุกแถว โดยระบุช่วงของสะดมถ์\n",
    "df.loc[:, 'ชื่อตอน':'รวม']\n",
    "\n",
    "# ในกรณีที่ต้องการใช้หมายเลขเพื่อระบุ แถว กับ สะดมถ์ ของ df ใช้ iloc\n",
    "df.iloc[3:9, 1:7]\n",
    "```"
   ]
  },
  {
   "cell_type": "code",
   "execution_count": null,
   "metadata": {},
   "outputs": [],
   "source": []
  },
  {
   "cell_type": "markdown",
   "metadata": {},
   "source": [
    "6. คำสั่งลบสะดมถ์\n",
    "\n",
    "```python\n",
    "# คำสั่งลบสะดมถ์โดยใช้ชื่อสะดมถ์\n",
    "del df['รวม']\n",
    "\n",
    "# คำสั่งลบสะดมถ์โดยใช้หมายเลขสะดมถ์\n",
    "del data[1]\n",
    "```"
   ]
  },
  {
   "cell_type": "code",
   "execution_count": null,
   "metadata": {},
   "outputs": [],
   "source": []
  },
  {
   "cell_type": "markdown",
   "metadata": {},
   "source": [
    "## Classification\n",
    "\n",
    "เทคนิคการระบุชนิดของดอกกล้วยไม้ตระกูล iris ว่าเป็นพันธ์ใดต่อไปนี้\n",
    "```txt\n",
    "0 - setosa\n",
    "1 - versicolor\n",
    "2 - virginica\n",
    "```\n",
    "โดยใช้ข้อมูล 4 ค่า(สะดมถ์) ได้แก่ \n",
    "```txt\n",
    "0 - ความยาวของกลีบบน [sepal length] หน่วยเซนติเมตร\n",
    "1 - ความกว้างของกลีบบน [sepal width] หน่วยเซนติเมตร\n",
    "2 - ความยาวของกลีบล่าง [pedal length] หน่วยเซนติเมตร\n",
    "3 - ความกว้างของกลีบล่าง [pedal width] หน่วยเซนติเมตร\n",
    "```\n",
    "\n",
    "ตามภาพ\n",
    "\n",
    "![petal-pedal](https://raw.githubusercontent.com/justmarkham/scikit-learn-videos/e43b96424ad781f57d492ce36351693aad01902a/images/03_iris.png)"
   ]
  },
  {
   "cell_type": "markdown",
   "metadata": {},
   "source": [
    "```python\n",
    "\n",
    "# คำสั่ง load ชุดข้อมูล\n",
    "import sklearn.datasets\n",
    "iris = sklearn.datasets.load_iris()\n",
    "\n",
    "# คำสั่งดูข้อมูล\n",
    "iris.data\n",
    "iris.target\n",
    "\n",
    "# คำสั่งดูขนาดข้อมูล\n",
    "iris.data.shape\n",
    "iris.target.shape\n",
    "\n",
    "# คำสั่งดูชุดข้อมูล 5 แถวแรก\n",
    "iris.data[:5]\n",
    "\n",
    "# คำสั่งดูชื่อแต่ละสะดมถ์\n",
    "iris.feature_names\n",
    "\n",
    "# คำสั่งดูรายชื่อสายพันธ์\n",
    "iris.target_names\n",
    "```"
   ]
  },
  {
   "cell_type": "code",
   "execution_count": null,
   "metadata": {},
   "outputs": [],
   "source": []
  },
  {
   "cell_type": "markdown",
   "metadata": {},
   "source": [
    "## Model Training\n",
    "\n",
    "1. กำหนดข้อมูลสำหรับการฝึก - train\n",
    "\n",
    "```python\n",
    "X = iris.data\n",
    "y = iris.target\n",
    "```\n"
   ]
  },
  {
   "cell_type": "code",
   "execution_count": null,
   "metadata": {},
   "outputs": [],
   "source": []
  },
  {
   "cell_type": "markdown",
   "metadata": {},
   "source": [
    "3. สร้างต้นแบบ ด้วยเทคนิคต่าง ๆ\n",
    "\n",
    "  i. ต้นแบบที่ใช้เทคนิค k-neighbor\n",
    "  \n",
    "  ```python\n",
    "    import sklearn.neighbors \n",
    "    knn = sklearn.neighbors.KNeighborsClassifier(n_neighbors=1)\n",
    "  ```\n",
    "  หรือ\n",
    "  ```python\n",
    "    from sklearn.neighbors import KNeighborsClassifier\n",
    "    knn = KNeighborsClassifier(n_neighbors=1)\n",
    "  ```\n",
    "  \n",
    "  ii. ต้นแบบที่ใช้เทคนิค support vector machine classifier\n",
    "  \n",
    "  ```python\n",
    "    from sklearn.svm import SVC\n",
    "    svc = SVC()\n",
    "  ```\n",
    "  \n",
    "  iii. ต้นแบบที่ใช้เทคนิค ต้นไม้ตัดสินใจ (decision tree)\n",
    "  \n",
    "  ```python\n",
    "    from sklearn.tree import DecisionTreeClassifier\n",
    "    tree = DecisionTreeClassifier()\n",
    "  ```"
   ]
  },
  {
   "cell_type": "code",
   "execution_count": null,
   "metadata": {},
   "outputs": [],
   "source": []
  },
  {
   "cell_type": "markdown",
   "metadata": {},
   "source": [
    "4. ฝึกต้นแบบทั้งหมดด้วยชุดข้อมูล X, y\n",
    "\n",
    "```python\n",
    "knn.fit(X,y)\n",
    "svc.fit(X,y)\n",
    "tree.fit(X,y)\n",
    "```"
   ]
  },
  {
   "cell_type": "code",
   "execution_count": null,
   "metadata": {},
   "outputs": [],
   "source": []
  },
  {
   "cell_type": "markdown",
   "metadata": {},
   "source": [
    "5. ดูผลการพยากรณ์ของต้นแบบแต่ละตัว\n",
    "\n",
    "```python\n",
    "r = knn.predict( [ [3,5,4,2] ])\n",
    "print( iris.target_names[ r[0] ] )\n",
    "\n",
    "r = svc.predict( [ [3,5,4,2] ])\n",
    "print( iris.target_names[ r[0] ] )\n",
    "\n",
    "r = tree.predict( [ [3,5,4,2] ])\n",
    "print( iris.target_names[ r[0] ] )\n",
    "```"
   ]
  },
  {
   "cell_type": "code",
   "execution_count": null,
   "metadata": {},
   "outputs": [],
   "source": []
  },
  {
   "cell_type": "markdown",
   "metadata": {},
   "source": [
    "6. การดูการพยากรณ์มากกว่า 1 ชุดข้อมูล\n",
    "\n",
    "แนะนำ: ควรเขียนแยกเป็นฟังก์ชันไว้ใช้งานดังนี้\n",
    "\n",
    "```python\n",
    "def check(model, testset):\n",
    "    r = model.predict(testset)\n",
    "    print( [ iris.target_names[x] for x in r ])\n",
    "```\n",
    "\n",
    "จากนั้นเรียกใช้งานดังนี้\n",
    "\n",
    "```python\n",
    "testset = [ [3,5,4,2],  [4,4.5, 2,1], [3,4.8,3,2] ]\n",
    "check(knn, testset)\n",
    "check(svc, testset)\n",
    "check(tree, testset)\n",
    "```"
   ]
  },
  {
   "cell_type": "code",
   "execution_count": null,
   "metadata": {},
   "outputs": [],
   "source": []
  },
  {
   "cell_type": "markdown",
   "metadata": {},
   "source": [
    "## ตัวอย่างการทำ Data Visualization ด้วย PCA\n",
    "```python\n",
    "# Code source: Gaël Varoquaux\n",
    "# Modified for documentation by Jaques Grobler\n",
    "# License: BSD 3 clause\n",
    "\n",
    "import matplotlib.pyplot as plt\n",
    "from mpl_toolkits.mplot3d import Axes3D\n",
    "from sklearn import datasets\n",
    "from sklearn.decomposition import PCA\n",
    "\n",
    "# import some data to play with\n",
    "iris = datasets.load_iris()\n",
    "X = iris.data[:, :2]  # we only take the first two features.\n",
    "y = iris.target\n",
    "\n",
    "x_min, x_max = X[:, 0].min() - .5, X[:, 0].max() + .5\n",
    "y_min, y_max = X[:, 1].min() - .5, X[:, 1].max() + .5\n",
    "\n",
    "plt.figure(2, figsize=(8, 6))\n",
    "plt.clf()\n",
    "\n",
    "# Plot the training points\n",
    "plt.scatter(X[:, 0], X[:, 1], c=y, cmap=plt.cm.Set1,\n",
    "            edgecolor='k')\n",
    "plt.xlabel('Sepal length')\n",
    "plt.ylabel('Sepal width')\n",
    "\n",
    "plt.xlim(x_min, x_max)\n",
    "plt.ylim(y_min, y_max)\n",
    "plt.xticks(())\n",
    "plt.yticks(())\n",
    "\n",
    "# To getter a better understanding of interaction of the dimensions\n",
    "# plot the first three PCA dimensions\n",
    "fig = plt.figure(1, figsize=(8, 6))\n",
    "ax = Axes3D(fig, elev=-150, azim=110)\n",
    "X_reduced = PCA(n_components=3).fit_transform(iris.data)\n",
    "ax.scatter(X_reduced[:, 0], X_reduced[:, 1], X_reduced[:, 2], c=y,\n",
    "           cmap=plt.cm.Set1, edgecolor='k', s=40)\n",
    "ax.set_title(\"First three PCA directions\")\n",
    "ax.set_xlabel(\"1st eigenvector\")\n",
    "ax.w_xaxis.set_ticklabels([])\n",
    "ax.set_ylabel(\"2nd eigenvector\")\n",
    "ax.w_yaxis.set_ticklabels([])\n",
    "ax.set_zlabel(\"3rd eigenvector\")\n",
    "ax.w_zaxis.set_ticklabels([])\n",
    "\n",
    "plt.show()\n",
    "```"
   ]
  },
  {
   "cell_type": "code",
   "execution_count": null,
   "metadata": {},
   "outputs": [],
   "source": []
  }
 ],
 "metadata": {
  "kernelspec": {
   "display_name": "Python 3",
   "language": "python",
   "name": "python3"
  },
  "language_info": {
   "codemirror_mode": {
    "name": "ipython",
    "version": 3
   },
   "file_extension": ".py",
   "mimetype": "text/x-python",
   "name": "python",
   "nbconvert_exporter": "python",
   "pygments_lexer": "ipython3",
   "version": "3.6.5"
  }
 },
 "nbformat": 4,
 "nbformat_minor": 2
}
