{
 "cells": [
  {
   "cell_type": "markdown",
   "metadata": {},
   "source": [
    "# Data Science for IoT\n",
    "> Workshop - July 17, 2018\n",
    "\n",
    "* วิทยากร ดร.วิชิต สมบัติ @wichit2s\n",
    "* ผู้ช่วยวิทยากร ดร.เกรียงศักดิ์ ตรีประพิณ, ดร.ไพชยนต์ คงไชย\n",
    "\n",
    "\n",
    "## กำหนดการ\n",
    "\n",
    "\n",
    "| เวลา              | กิจกรรม                                              |\n",
    "| :---------------: | --------------------------------------------------- |\n",
    "| 08.30 - 09.00 น   | ลงทะเบียนเข้าร่วมอบรม                                  |\n",
    "|                   |                                                     |\n",
    "| 09.00 - 10.30 น   | Session 1: หลักวิทยาการข้อมูลและกระบวนการการวิเคราะห์ข้อมูล |\n",
    "|                   |                                                     |\n",
    "| 10.30 - 10.45 น   | พักรับประทานอาหารว่าง                                  |\n",
    "|                   |                                                     |\n",
    "| 10.45 - 12.00 น   | Session 2: เทคนิคการวิเคราะห์ข้อมูลแบบต่างๆ               |\n",
    "|                   |                                                     |\n",
    "| 12.00 - 13.00 น   | พักรับประทานอาหารกลางวัน                               |\n",
    "|                   |                                                     |\n",
    "| 13.00 - 14.30 น   | Session 3: การทดสอบประสิทธิภาพต้นแบบและการประยุกต์ใช้งาน  |\n",
    "|                   |                                                     |\n",
    "| 14.30 - 14.45 น   | พักรับประทานอาหารว่าง                                  |\n",
    "|                   |                                                     |\n",
    "| 14.45 - 16.30 น   | Session 4: กรณีศึกษา การวิเคราะห์ข้อมูล IoT               |\n",
    "\n",
    "\n",
    "## เอกสาร\n",
    "* Google Slide: \n",
    "\t> http://gg.gg/DataScienceIoT\n",
    "\n",
    "* Github Repository: \n",
    "\t> https://github.com/wichit2s/DataScienceIoT\t\n",
    "\n"
   ]
  },
  {
   "cell_type": "code",
   "execution_count": null,
   "metadata": {},
   "outputs": [],
   "source": []
  }
 ],
 "metadata": {
  "kernelspec": {
   "display_name": "Python 3",
   "language": "python",
   "name": "python3"
  },
  "language_info": {
   "codemirror_mode": {
    "name": "ipython",
    "version": 3
   },
   "file_extension": ".py",
   "mimetype": "text/x-python",
   "name": "python",
   "nbconvert_exporter": "python",
   "pygments_lexer": "ipython3",
   "version": "3.6.5"
  }
 },
 "nbformat": 4,
 "nbformat_minor": 2
}
